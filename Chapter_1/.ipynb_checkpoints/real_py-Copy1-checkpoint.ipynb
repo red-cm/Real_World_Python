{
 "cells": [
  {
   "cell_type": "code",
   "execution_count": 1,
   "metadata": {},
   "outputs": [],
   "source": [
    "import sys\n",
    "import random\n",
    "import itertools\n",
    "import numpy as np\n",
    "import cv2 as cv\n",
    "\n",
    "MAP_FILE = 'cape_python.png'\n",
    "\n",
    "SA1_CORNERS = (130, 265, 180, 315) # (UL-X, UL-Y, LR-X, LR-Y)\n",
    "SA2_CORNERS = (80, 255, 130, 305) # (UL-X, UL-Y, LR-X, LR-Y)\n",
    "SA3_CORNERS = (105, 205, 155, 255) # (UL-X, UL-Y, LR-X, LR-Y)\n",
    "\n",
    "class Search():\n",
    "    \"\"\"Bayesian Search & Rescue game with 3 search areas\"\"\"\n",
    "    \n",
    "    def __init__(self,name):\n",
    "        self.name = name\n",
    "        \n",
    "        self.img = cv.imread(MAP_FILE, cv.IMREAD_COLOR)\n",
    "        if self.img is None:\n",
    "            print('Could not load map file {}'.format(MAP_FILE),\n",
    "                  file=sys.stderr)\n",
    "            sys.exit(1)\n",
    "        \n",
    "        self.area_actual = 0\n",
    "        \n",
    "        self.sailor_actual = [0,0] # As \"local\" coords within search area\n",
    "        \n",
    "        self.sa1 = self.img[SA1_CORNERS[1] : SA1_CORNERS[3],\n",
    "                           SA1_CORNERS[0]: SA1_CORNERS[2]]\n",
    "        \n",
    "        self.sa2 = self.img[SA2_CORNERS[1] : SA2_CORNERS[3],\n",
    "                           SA2_CORNERS[0]: SA2_CORNERS[2]]\n",
    "        \n",
    "        self.sa3 = self.img[SA3_CORNERS[1] : SA3_CORNERS[3],\n",
    "                           SA3_CORNERS[0]: SA3_CORNERS[2]]\n",
    "        \n",
    "        self.p1 = 0.2\n",
    "        self.p2 = 0.5\n",
    "        self.p3 = 0.3\n",
    "        \n",
    "        self.sep1 = 0\n",
    "        self.sep2 = 0\n",
    "        self.sep3 = 0\n",
    "        \n",
    "        "
   ]
  },
  {
   "cell_type": "code",
   "execution_count": null,
   "metadata": {},
   "outputs": [],
   "source": []
  }
 ],
 "metadata": {
  "kernelspec": {
   "display_name": "Python 3",
   "language": "python",
   "name": "python3"
  },
  "language_info": {
   "codemirror_mode": {
    "name": "ipython",
    "version": 3
   },
   "file_extension": ".py",
   "mimetype": "text/x-python",
   "name": "python",
   "nbconvert_exporter": "python",
   "pygments_lexer": "ipython3",
   "version": "3.7.9"
  }
 },
 "nbformat": 4,
 "nbformat_minor": 4
}
